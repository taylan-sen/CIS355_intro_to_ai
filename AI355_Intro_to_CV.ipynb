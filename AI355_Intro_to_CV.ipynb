{
  "nbformat": 4,
  "nbformat_minor": 0,
  "metadata": {
    "colab": {
      "provenance": [],
      "authorship_tag": "ABX9TyNks9FJ3mL+xAd5lIlS3bxK",
      "include_colab_link": true
    },
    "kernelspec": {
      "name": "python3",
      "display_name": "Python 3"
    },
    "language_info": {
      "name": "python"
    }
  },
  "cells": [
    {
      "cell_type": "markdown",
      "metadata": {
        "id": "view-in-github",
        "colab_type": "text"
      },
      "source": [
        "<a href=\"https://colab.research.google.com/github/taylan-sen/CIS355_intro_to_ai/blob/main/AI355_Intro_to_CV.ipynb\" target=\"_parent\"><img src=\"https://colab.research.google.com/assets/colab-badge.svg\" alt=\"Open In Colab\"/></a>"
      ]
    },
    {
      "cell_type": "markdown",
      "source": [
        "## Perceptron Review\n",
        "\n",
        "\n",
        "1. Plot the sign function from -10 to 10 using matplotlib\n",
        "\n",
        "1. Plot the line $$.01x + .01y = 0$$ from -10 to 10 using matplotlib\n",
        "\n",
        "1. Add the point (-2,3) to the plot.\n",
        "\n",
        "1. $$ W(t+1) = W(t) + y(t)x(t)$$\n",
        "\n",
        "!. Plot the line $$-1.99x + 3.01y = 0$$ from -10 to 10 using matplotlib\n"
      ],
      "metadata": {
        "id": "4fJbbAkEmXPw"
      }
    },
    {
      "cell_type": "markdown",
      "source": [
        "# Intro to Computer Vision\n",
        "\n",
        "1. What are two main golas of Computer Vision?\n",
        "\n",
        "1. How is an image typically represented on a computer?\n",
        "\n",
        "1. What is the numpy module?\n",
        "\n",
        "1. What is the difference between a vector, matrix, and tensor?\n",
        "\n",
        "1. Which numpy datatype can be used to represent the above?\n",
        "\n",
        "1. Use this data type to create a length 5 vector of zeros, a 3x3 matrix of ones, and a 2x3x4 tensor with 155 in each \"voxel\".\n",
        "\n",
        "\n"
      ],
      "metadata": {
        "id": "oM8Uc1TDlpTQ"
      }
    },
    {
      "cell_type": "code",
      "execution_count": null,
      "metadata": {
        "id": "-uCGwpONlolo"
      },
      "outputs": [],
      "source": []
    }
  ]
}