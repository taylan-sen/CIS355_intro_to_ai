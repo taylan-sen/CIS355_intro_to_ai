{
  "nbformat": 4,
  "nbformat_minor": 0,
  "metadata": {
    "colab": {
      "provenance": [],
      "authorship_tag": "ABX9TyPFBtwE0qp2fwPHaSvRmQpm",
      "include_colab_link": true
    },
    "kernelspec": {
      "name": "python3",
      "display_name": "Python 3"
    },
    "language_info": {
      "name": "python"
    }
  },
  "cells": [
    {
      "cell_type": "markdown",
      "metadata": {
        "id": "view-in-github",
        "colab_type": "text"
      },
      "source": [
        "<a href=\"https://colab.research.google.com/github/taylan-sen/CIS355_intro_to_ai/blob/main/AI2024_search_assignment.ipynb\" target=\"_parent\"><img src=\"https://colab.research.google.com/assets/colab-badge.svg\" alt=\"Open In Colab\"/></a>"
      ]
    },
    {
      "cell_type": "markdown",
      "source": [
        "YOU MUST WORK ON THIS ASSIGNMENT BY YOURSELF, NO AI HELP. NO CUTTING AND PASTING CODE FROM ELSEWHERE. SAVE A COPY OF THIS NOTEBOOK IN YOUR DRIVE, ANSWER ALL THE QUESTIONS AND COMPLETE ALL REQUESTED CODING. UPLOAD YOUR SAVED ipynb TO CANVAS."
      ],
      "metadata": {
        "id": "sQ2hngMvH7tb"
      }
    },
    {
      "cell_type": "markdown",
      "source": [
        "##Adversarial Search (50pts)\n",
        "\n",
        "### Background\n",
        "An **adversarial search** is a search in a game in which there are multiple adversaries, such as tic tac toe, chess, backgammon, go, as well as games with more than two opponents, such as chinese checkers or risk.\n",
        "\n",
        "The **MiniMax Strategy** (aka MinMax and MaxiMin)\n",
        "is a agent and search strategy used not only in AI, but also game theory, which assumes the opponent will play a perfect next move, so the agent should play the next move which minimizes the opponent's best possible outcome. In other words, when it is the agent's turn, it must search ahead at least the next two moves, and pick the move that gives the opponent the worst best option. (Please take a moment to think about that and make sure you understand).\n",
        "\n",
        "<font color='red'><u><b>Please read pages 1 to 6 (up to and including section 5.2.1) in the attached pdf.</b></u></font>\n"
      ],
      "metadata": {
        "id": "x0Oc-5YbJBQJ"
      }
    },
    {
      "cell_type": "markdown",
      "source": [
        "#### Part I - Tic Tac Toe Represetation and Helper Functions\n",
        "\n",
        "As dicussed in class, a tic tac toe board can be represented as a list, with the cells numbered from 0 to 8.  The code below implements some helper functions which we will use with our Tic Tac Toe agent development. Please read over the function names and their description. Reading the code and understanding it is not necessary, although I would recommend it.\n"
      ],
      "metadata": {
        "id": "PXTKZakncCsP"
      }
    },
    {
      "cell_type": "code",
      "source": [
        "# Tic Tac Toe Helper functions.\n",
        "#\n",
        "# Note that a board is represented as a length 9 list with a blank cell\n",
        "# represented as a '-', and capital letters used for X, and O, ('X', 'O').\n",
        "# In this representation, the top left corner of the board is represented as\n",
        "# index 0, the center top as index 1, the center as 4, and bottom right as 8.\n",
        "\n",
        "def print_board(board):\n",
        "  \"\"\" Prints out the Tic Tac Toe Board \"\"\"\n",
        "  for i in range(0,9,3):\n",
        "    print('|'.join(board[i:i+3]))\n",
        "\n",
        "# the 3-in-a-row cell combinations that result in a win\n",
        "WINS = ((0,1,2),(3,4,5),(6,7,8),(0,3,6),(1,4,7),(2,5,8),(0,4,8),(2,4,6))\n",
        "\n",
        "def valid_next_moves(board):\n",
        "  \"\"\"Returns a list of valid next moves given the board_state.\n",
        "  - Cells are referred by their 0-8 index (i.e. not 1-9). For example\n",
        "  - if the board is empty, it will return [0,1,2,3,4,5,6,7,8]. \"\"\"\n",
        "  moves_list = []\n",
        "  # cycle through all the cells. If it is empty, add i to moves_list\n",
        "  for i in range(9):\n",
        "    if board[i] == '-':\n",
        "      moves_list.append(i)\n",
        "  return moves_list\n",
        "\n",
        "def get_x_cells(board):\n",
        "  \"\"\"Returns a list of cells that have X's in them.\"\"\"\n",
        "  return [i for i,v in enumerate(board) if v=='X']\n",
        "\n",
        "def get_o_cells(board):\n",
        "  \"\"\"Returns a list of cells that have O's in them.\"\"\"\n",
        "  return [i for i,v in enumerate(board) if v=='O']\n",
        "\n",
        "def is_x_winner(board):\n",
        "  \"\"\"Returns True if there are three X's in a row, otherwise False\"\"\"\n",
        "  x_cells = get_x_cells(board)\n",
        "\n",
        "  for win in WINS:\n",
        "    if len(set(win) & set(x_cells)) == 3:\n",
        "      return True\n",
        "  return False\n",
        "\n",
        "def is_o_winner(board):\n",
        "  \"\"\"Returns True if there are three O's in a row, otherwise False\"\"\"\n",
        "  o_cells = get_o_cells(board)\n",
        "\n",
        "  for win in WINS:\n",
        "    if len(set(win) & set(o_cells)) == 3:\n",
        "      return True\n",
        "  return False\n",
        "\n",
        "def is_game_over(board):\n",
        "  \"\"\" Returns 'X' if X won; 'O' if O won; 'CAT' if Cat's game, otherwise False.\n",
        "  \"\"\"\n",
        "  if is_x_winner(board):\n",
        "    return 'X'\n",
        "  elif is_o_winner(board):\n",
        "    return '0'\n",
        "  elif valid_next_moves(board) == []:\n",
        "    return \"Cat\"\n",
        "  else:\n",
        "    return False\n",
        "\n",
        "def is_x_turn(board):\n",
        "  \"\"\"Returns True if the number of moves left is odd.\n",
        "  Note this function does not detect wins or full board.\"\"\"\n",
        "  return len(valid_next_moves(board)) % 2 == 1\n"
      ],
      "metadata": {
        "id": "SamyiEInKlfg"
      },
      "execution_count": null,
      "outputs": []
    },
    {
      "cell_type": "markdown",
      "source": [
        "#### PART 1 - Representational Problem Questions\n",
        "Create a new code cell below and:\n",
        "1. Create a board variable **b1** that represents X going in the center position.\n",
        "1. Use the **print_board** function to print b1\n",
        "1. Create a board variable **b2** that represents X going in the center and O going in the top right.\n",
        "1. Print b2 with print_board\n",
        "1. Use the **valid_next_moves** fuction to list the possible moves X can take.\n",
        "1. Make a variable **b3** which represents the following board.\n",
        "\n",
        "\n",
        "    X|-|O\n",
        "    X|-|O\n",
        "    X|-|O\n",
        "\n",
        "\n",
        "7. Print out the output of the functions: **is_o_winner** and **is_x_winner** and **is_game_over** when **b3** is passed in as the parameter. Explain the results.\n",
        "\n"
      ],
      "metadata": {
        "id": "JxO7znZoM--D"
      }
    },
    {
      "cell_type": "markdown",
      "source": [
        "#### Part II - Agents\n",
        "\n",
        "The code below implements a human agent (prompts the screen and keyboard for the next move), and a computer \"random agent\" (which randomly selects an open cell when it is its turn). The code also contains the \"engine\" to play tic tac tow. Read the function names, parameters and main function comments."
      ],
      "metadata": {
        "id": "uIT-z30Tco6h"
      }
    },
    {
      "cell_type": "code",
      "source": [
        "# Make sure you run the code cell for the helper functions above befre running\n",
        "# this cell!\n",
        "#\n",
        "# This code implements the TIC TAC TOE engine as well as a random_agent,\n",
        "# and code to run it over and over in order to evaluate it. You don't have to\n",
        "# read and understand all the code, but you should at least read the function\n",
        "# names, arguments, and each function's \"\"\" \"\"\" comments.\n",
        "import random\n",
        "\n",
        "def human_agent(board):\n",
        "  \"\"\" Prompts a keyboard user for a move and returns it as an int. \"\"\"\n",
        "  print_board(board)\n",
        "  move = int(input('Human, what is your move? [0-8]'))\n",
        "  return move\n",
        "\n",
        "def random_agent(board):\n",
        "  \"\"\" Returns a random move out of valid next moves.\n",
        "  If no moves are left, produces an assertion error. \"\"\"\n",
        "  moves = valid_next_moves(board)\n",
        "  if moves == []:\n",
        "    assert(False)\n",
        "  else:\n",
        "    return random.choice(moves)\n",
        "\n",
        "def play(x_agent, o_agent, print_output=False):\n",
        "  \"\"\" Plays one game of tic_tac_toe calling the x_agent on x's turns and the\n",
        "  o_agent on o's turns.\n",
        "  Returns:\n",
        "    (winner, move_history, board_state)\n",
        "  where winner is one of {'X','0','Cat'}, move_history is a list of move\n",
        "  indices as they were played, and board_state is a list of the final board\n",
        "  contents.\n",
        "  \"\"\"\n",
        "  board_state = ['-']*9 # beginning empty board\n",
        "  move_history = []     # this list will keep track of all moves\n",
        "  while not is_game_over(board_state):\n",
        "    if is_x_turn(board_state):\n",
        "      next_move = x_agent(board_state)\n",
        "      board_state[next_move] = 'X'\n",
        "    else:\n",
        "      next_move = o_agent(board_state)\n",
        "      board_state[next_move] = 'O'\n",
        "    move_history += [next_move]\n",
        "\n",
        "  winner = is_game_over(board_state)\n",
        "  if print_output:\n",
        "    print_board(board_state)\n",
        "    print('Game over!')\n",
        "    print('Winner is: ', winner)\n",
        "    #print(move_history)\n",
        "  return (winner, move_history, board_state)"
      ],
      "metadata": {
        "id": "4wibbzgUWtbK"
      },
      "execution_count": null,
      "outputs": []
    },
    {
      "cell_type": "code",
      "source": [
        "# To help you test your agents, below is code showing how to launch a game with\n",
        "# a human vs. random agent.\n",
        "play(human_agent, random_agent, True)"
      ],
      "metadata": {
        "colab": {
          "base_uri": "https://localhost:8080/"
        },
        "id": "erOu2UFN2ruG",
        "outputId": "91ccd7b7-1674-4e06-b326-4b24a73b695d"
      },
      "execution_count": null,
      "outputs": [
        {
          "output_type": "stream",
          "name": "stdout",
          "text": [
            "-|-|-\n",
            "-|-|-\n",
            "-|-|-\n",
            "Human, what is your move? [0-8]0\n",
            "X|-|-\n",
            "-|-|-\n",
            "O|-|-\n",
            "Human, what is your move? [0-8]1\n",
            "X|X|-\n",
            "-|-|-\n",
            "O|O|-\n",
            "Human, what is your move? [0-8]2\n",
            "X|X|X\n",
            "-|-|-\n",
            "O|O|-\n",
            "Game over!\n",
            "Winner is:  X\n"
          ]
        },
        {
          "output_type": "execute_result",
          "data": {
            "text/plain": [
              "('X', [0, 6, 1, 7, 2], ['X', 'X', 'X', '-', '-', '-', 'O', 'O', '-'])"
            ]
          },
          "metadata": {},
          "execution_count": 15
        }
      ]
    },
    {
      "cell_type": "markdown",
      "source": [
        "#### Part II - TTT Engine Questions\n",
        "\n",
        "\n",
        "1. (0pts) Play five games with the random agent as X and 5 times as O.\n",
        "  - What is the win, lose, draw outcomes when you play as X? as O?"
      ],
      "metadata": {
        "id": "WC9NFeHsdf7n"
      }
    },
    {
      "cell_type": "code",
      "source": [
        "# The code in this cell will allow you to play tic tac toe over and over\n",
        "# 100 times and see how well two agents do againts eachother.\n",
        "def eval(x_agent,o_agent):\n",
        "  \"\"\"Runs 100 games with the designated agents and prints the number of wins\n",
        "  for x, o, and cat.\n",
        "  \"\"\"\n",
        "  x_wins, o_wins, cat_wins = 0, 0, 0\n",
        "  for i in range(100):\n",
        "    winner = play(x_agent, o_agent)[0] #the 0th list item returned is the winner\n",
        "    if(winner == 'X'):\n",
        "      x_wins += 1\n",
        "    elif(winner == '0'):\n",
        "      o_wins += 1\n",
        "    elif(winner == 'Cat'):\n",
        "      cat_wins += 1\n",
        "    else:\n",
        "      assert(False)  # something bad happened if there is no winner\n",
        "  print('wins:')\n",
        "  print(' x:', x_wins)\n",
        "  print(' o:', o_wins)\n",
        "  print(' c:', cat_wins)"
      ],
      "metadata": {
        "id": "uL65GDpZVqIW"
      },
      "execution_count": null,
      "outputs": []
    },
    {
      "cell_type": "markdown",
      "source": [
        "#### Part III - looping the evaluation\n",
        "\n",
        "The eval function above runs the Tic Tac Toe engine 100 times over for each agent functin passed to it. For example, in the code below we evaluate how well the random agent does against another random agent. Note the advantage of playing as X vs. O for random agents.\n",
        "\n"
      ],
      "metadata": {
        "id": "0vsrN2GYd6sF"
      }
    },
    {
      "cell_type": "code",
      "source": [
        "# Evaluate how valuable going first is by havig a random_agent play\n",
        "# against a random_agent\n",
        "eval(random_agent, random_agent)"
      ],
      "metadata": {
        "colab": {
          "base_uri": "https://localhost:8080/"
        },
        "id": "2eSnAszfWSQ2",
        "outputId": "0818c9cd-a73c-4699-b412-d59e9ab8af4c"
      },
      "execution_count": null,
      "outputs": [
        {
          "output_type": "stream",
          "name": "stdout",
          "text": [
            "wins:\n",
            " x: 58\n",
            " o: 25\n",
            " c: 17\n"
          ]
        }
      ]
    },
    {
      "cell_type": "markdown",
      "source": [
        "#### Part IV - Advanced Agents\n",
        "\n",
        "\n",
        "1. (pts) Run the code to see how the random_agent performs. Be sure to read the random_agent function and understand it.\n",
        "2. (pts) Finish implementing the function agent1, the look ahead 1 move agent. Take note of the performance provided by the eval functions.\n",
        "3. (pts) Finish implementing the function agent2, the look ahead 1 move agent that tries to lose. Take note of the performance provided by the eval functions.\n",
        "4. (pts) Finish implememting the function agent3, the look ahead by 2 minimax strategy.\n",
        "5. (pts) Answer the questions below.\n",
        "\n",
        "If you can't get the code working, provide an explanation of how you expect it should work and what you expect the results to be. If you get it working (and it is right, you get full credit). However, if there is a bug, in order to maximize your chances of partial credit, you can also add an explanation of how you think it should work and whether the results are what you expect."
      ],
      "metadata": {
        "id": "mJIZWnEydR6x"
      }
    },
    {
      "cell_type": "code",
      "source": [
        "# TODO: AGENT LOOK AHEAD BY 1.\n",
        "#   Finish implementing agent1 below, it currently just randomly selects\n",
        "#   a move. It should instead cycle through all valid moves for the current\n",
        "#   board and if one results in a win, it should return that move. Otherwise,\n",
        "#   it should randomly pick a move.\n",
        "def agent1(state):\n",
        "  \"\"\"Cycles through all valid moves for the current board. If one results in a\n",
        "  win, it will return that move, otherwise, it will randomly pick a move. \"\"\"\n",
        "  actions = valid_next_moves(state)\n",
        "  if actions == []:\n",
        "    assert(False)\n",
        "\n",
        "  # check to see if it is X's turn or O's turn\n",
        "  if len(actions) % 2:\n",
        "    player, opponent = 'X', '0'\n",
        "    i_am_winner = is_x_winner\n",
        "  else:\n",
        "    player, opponent = '0', 'X'\n",
        "    i_am_winner = is_o_winner\n",
        "\n",
        "  # TODO: INSERT BELOW!!!\n",
        "  # HINTS: use a for loop, use the function i_am_winner(), use a temporary\n",
        "  # game board with the current move being evaluated added. A copy of the list\n",
        "  # can be made using the list.copy() function:\n",
        "  #   test_state = state.copy()\n",
        "  # When you find a winning move, return it immediately rather than continuing\n",
        "  # looping.\n",
        "  # TODO: INSERT ABOVE HERE!!!\n",
        "  return best_action\n",
        "\n",
        "\n",
        "eval(agent1, random_agent)\n",
        "eval(random_agent, agent1)"
      ],
      "metadata": {
        "colab": {
          "base_uri": "https://localhost:8080/"
        },
        "id": "NlETmRvmMDKy",
        "outputId": "7dc2f0b3-66aa-401b-a124-beb8bad30581"
      },
      "execution_count": null,
      "outputs": [
        {
          "output_type": "stream",
          "name": "stdout",
          "text": [
            "wins:\n",
            " x: 78\n",
            " o: 15\n",
            " c: 7\n",
            "wins:\n",
            " x: 50\n",
            " o: 48\n",
            " c: 2\n"
          ]
        }
      ]
    },
    {
      "cell_type": "code",
      "source": [
        "# TODO: AGENT_LOSER\n",
        "#   Finish implementing agent2 below, it currently just randomly selects\n",
        "#   a move. It should instead cycle through all valid moves for the current\n",
        "#   board and should return one that does not result in a win if possible.\n",
        "def agent2(state):\n",
        "  \"\"\"Cycles through all valid moves for the current board. If will return\n",
        "  a move that does not result in a win if possible. \"\"\"\n",
        "  actions = valid_next_moves(state)\n",
        "  if actions == []:\n",
        "    assert(False)\n",
        "\n",
        "  # check to see if it is X's turn or O's turn\n",
        "  if len(actions) % 2:\n",
        "    player, opponent = 'X', '0'\n",
        "    i_am_winner = is_x_winner\n",
        "  else:\n",
        "    player, opponent = '0', 'X'\n",
        "    i_am_winner = is_o_winner\n",
        "\n",
        "  best_action = actions[0] # temporarily pick first valid move\n",
        "  # TODO: INSERT BELOW!!!\n",
        "  # HINTS: use a for loop, use the function i_am_winner(), use a temporary\n",
        "  # game board with the current move being evaluated added. A copy of the list\n",
        "  # can be made using the list.copy() function:\n",
        "  #   test_state = state.copy()\n",
        "  # When you find a non-winning move, return it immediately rather than\n",
        "  # continuing looping.\n",
        "  # TODO: INSERT ABOVE HERE!!!\n",
        "  return best_action\n",
        "\n",
        "\n",
        "eval(agent2, random_agent)\n",
        "eval(random_agent, agent2)"
      ],
      "metadata": {
        "id": "TK8Kuqdqgw69"
      },
      "execution_count": null,
      "outputs": []
    },
    {
      "cell_type": "code",
      "source": [
        "# TODO - AGENT MAXIMIN BUT ONLY LOOK AHEAD BY 2\n",
        "#  Finish evaluating agent3, it currently just selects first valid move\n",
        "def agent3(state):\n",
        "  \"\"\"A minimal implementation of minimax strategy looking two moves ahead.\n",
        "  If a next move results in a win, it is returned. Otherwise, for each\n",
        "  player move, it will evaluate if the opponent can win. If there is a move\n",
        "  which doesn't allow the opponent to win, it will be selected.\n",
        "  \"\"\"\n",
        "  actions = valid_next_moves(state)\n",
        "  if actions == []:\n",
        "    assert(False)\n",
        "  if len(actions) % 2:\n",
        "    player, opponent = 'X', '0'\n",
        "    player_is_winner = is_x_winner\n",
        "    opponent_is_winner = is_o_winner\n",
        "  else:\n",
        "    player, opponent = '0', 'X'\n",
        "    player_is_winner = is_o_winner\n",
        "    opponent_is_winner = is_x_winner\n",
        "\n",
        "  # for each valid move, hold's opponents best score\n",
        "  opponent_action_score_dict = {}\n",
        "\n",
        "  worst_action_for_opponent = actions[0] # temporarily pick first valid move\n",
        "\n",
        "  # TODO: INSERT CODE BELOW\n",
        "  # HINTS: use a for loop within a for loop. The outer for loop will cycle\n",
        "  # over player moves, the inner for loop cycles over opponent moves possible\n",
        "  # after the current selected player move.\n",
        "  # Only keep track of two types of score for the opponent (1 for opponent win,\n",
        "  # 0 otherwise)\n",
        "  #return move with lowest opponent score\n",
        "  # TODO: INSERT CODE ABOVE\n",
        "  return worst_action_for_opponent\n",
        "\n",
        "\n",
        "eval(agent3, random_agent)\n",
        "eval(random_agent, agent3)"
      ],
      "metadata": {
        "colab": {
          "base_uri": "https://localhost:8080/"
        },
        "id": "l04IRhuedPvE",
        "outputId": "4bd01030-d427-42fa-8a1d-c815eac82b8c"
      },
      "execution_count": null,
      "outputs": [
        {
          "output_type": "stream",
          "name": "stdout",
          "text": [
            "wins:\n",
            " x: 83\n",
            " o: 16\n",
            " c: 1\n",
            "wins:\n",
            " x: 58\n",
            " o: 42\n",
            " c: 0\n"
          ]
        }
      ]
    },
    {
      "cell_type": "code",
      "source": [
        "# Here is some test code I used that you are welcome to repurpose\n",
        "\n",
        "def test_is_x_winner():\n",
        "  assert(is_x_winner(['X']*9))\n",
        "  assert(not is_x_winner(['O']*9))\n",
        "  assert(is_x_winner(['X', 'X', 'X', 'O','O','O','-','-','O']))\n",
        "  assert(not is_x_winner(['X', 'X', 'O', 'O','O','O','-','-','O']))\n",
        "\n",
        "def test_is_game_over():\n",
        "  assert(is_game_over(['X']*9) == 'X')\n",
        "  assert(is_game_over(['O']*9) == 'O')\n",
        "  assert(is_game_over(['-']*9) == False)\n",
        "  assert(is_game_over(['X', 'X', 'X', 'O','O','O','-','-','O']) == 'X')\n",
        "  assert(is_game_over(['X', 'X', 'O', 'O','O','O','-','-','O']) == 'O')\n",
        "  assert(is_game_over(['X', 'O', 'O',   'O','X','X',  'X','O','O']) == 'CAT')\n",
        "  assert(is_game_over(['X', 'X', 'O',   '-','O','O',  'X','O','X']) == False)\n",
        "\n",
        "test_is_x_winner()\n",
        "test_is_game_over()\n",
        "\n"
      ],
      "metadata": {
        "id": "o0gxX9G0UOhb"
      },
      "execution_count": null,
      "outputs": []
    },
    {
      "cell_type": "markdown",
      "source": [
        "####Part IV - Questions\n",
        "Create a new text cell below this cell with your answers to the questions. Please take care to answer completely.\n",
        "\n",
        "**Question 1:** Does the look ahead by 1 agent (agent1) perform better than the random agent? Why or why wouldn't you expect this outcome? (Be sure to discuss both each agent playing as X and O.)\n",
        "\n",
        "**Question 2:** Does the minimax (agent3) perform better than the look ahead by 1 agent (agent1)? Why or why wouldn't you expect this outcome?  (Be sure to discuss both each agent playing as X and O.)\n",
        "\n",
        "**Question 3:** Why is it or why is it not possible to develop an agent that is basically a look up dictionary that stores the best move for all posible board states? If it is possible, what is the approximate size required of such a dictionary?\n"
      ],
      "metadata": {
        "id": "JTVBYrsWhX8h"
      }
    }
  ]
}